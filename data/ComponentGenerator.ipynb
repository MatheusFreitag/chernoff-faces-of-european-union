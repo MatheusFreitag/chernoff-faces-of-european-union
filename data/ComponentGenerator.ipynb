{
 "cells": [
  {
   "cell_type": "code",
   "execution_count": 1,
   "id": "fd06389c-eaea-497e-9625-53fab3ca2d3e",
   "metadata": {},
   "outputs": [],
   "source": [
    "import pandas as pd"
   ]
  },
  {
   "cell_type": "code",
   "execution_count": 2,
   "id": "957eb397-e4f9-45fd-a52c-952d60806a37",
   "metadata": {},
   "outputs": [],
   "source": [
    "df = pd.read_json('./dataParsed.json')"
   ]
  },
  {
   "cell_type": "code",
   "execution_count": 3,
   "id": "debec942-b28e-4d17-9f83-3f14dbcd282a",
   "metadata": {},
   "outputs": [
    {
     "data": {
      "text/html": [
       "<div>\n",
       "<style scoped>\n",
       "    .dataframe tbody tr th:only-of-type {\n",
       "        vertical-align: middle;\n",
       "    }\n",
       "\n",
       "    .dataframe tbody tr th {\n",
       "        vertical-align: top;\n",
       "    }\n",
       "\n",
       "    .dataframe thead th {\n",
       "        text-align: right;\n",
       "    }\n",
       "</style>\n",
       "<table border=\"1\" class=\"dataframe\">\n",
       "  <thead>\n",
       "    <tr style=\"text-align: right;\">\n",
       "      <th></th>\n",
       "      <th>Name</th>\n",
       "      <th>Code</th>\n",
       "      <th>Flag</th>\n",
       "      <th>CorruptionIndex</th>\n",
       "      <th>UVIndex</th>\n",
       "      <th>ObesityIndex</th>\n",
       "      <th>HappinessIndex</th>\n",
       "      <th>DrugDeaths</th>\n",
       "      <th>CorruptionIndex_Parsed</th>\n",
       "      <th>UVIndex_Parsed</th>\n",
       "      <th>ObesityIndex_Parsed</th>\n",
       "      <th>HappinessIndex_Parsed</th>\n",
       "      <th>DrugDeaths_Parsed</th>\n",
       "    </tr>\n",
       "  </thead>\n",
       "  <tbody>\n",
       "    <tr>\n",
       "      <th>0</th>\n",
       "      <td>Austria</td>\n",
       "      <td>AUT</td>\n",
       "      <td>🇦🇹</td>\n",
       "      <td>76</td>\n",
       "      <td>1888</td>\n",
       "      <td>21.9</td>\n",
       "      <td>7.2460</td>\n",
       "      <td>140</td>\n",
       "      <td>low</td>\n",
       "      <td>neutral</td>\n",
       "      <td>low</td>\n",
       "      <td>high</td>\n",
       "      <td>low</td>\n",
       "    </tr>\n",
       "    <tr>\n",
       "      <th>1</th>\n",
       "      <td>Belgium</td>\n",
       "      <td>BEL</td>\n",
       "      <td>🇧🇪</td>\n",
       "      <td>75</td>\n",
       "      <td>1645</td>\n",
       "      <td>24.5</td>\n",
       "      <td>6.9230</td>\n",
       "      <td>224</td>\n",
       "      <td>neutral</td>\n",
       "      <td>low</td>\n",
       "      <td>low</td>\n",
       "      <td>neutral</td>\n",
       "      <td>high</td>\n",
       "    </tr>\n",
       "    <tr>\n",
       "      <th>2</th>\n",
       "      <td>Bulgaria</td>\n",
       "      <td>BGR</td>\n",
       "      <td>🇧🇬</td>\n",
       "      <td>42</td>\n",
       "      <td>2331</td>\n",
       "      <td>27.4</td>\n",
       "      <td>5.0110</td>\n",
       "      <td>69</td>\n",
       "      <td>high</td>\n",
       "      <td>high</td>\n",
       "      <td>high</td>\n",
       "      <td>low</td>\n",
       "      <td>low</td>\n",
       "    </tr>\n",
       "    <tr>\n",
       "      <th>3</th>\n",
       "      <td>Croatia</td>\n",
       "      <td>HRV</td>\n",
       "      <td>🇭🇷</td>\n",
       "      <td>48</td>\n",
       "      <td>1976</td>\n",
       "      <td>27.1</td>\n",
       "      <td>5.4318</td>\n",
       "      <td>70</td>\n",
       "      <td>high</td>\n",
       "      <td>neutral</td>\n",
       "      <td>high</td>\n",
       "      <td>low</td>\n",
       "      <td>low</td>\n",
       "    </tr>\n",
       "    <tr>\n",
       "      <th>4</th>\n",
       "      <td>Cyprus</td>\n",
       "      <td>CYP</td>\n",
       "      <td>🇨🇾</td>\n",
       "      <td>59</td>\n",
       "      <td>3439</td>\n",
       "      <td>22.6</td>\n",
       "      <td>6.0458</td>\n",
       "      <td>17</td>\n",
       "      <td>neutral</td>\n",
       "      <td>high</td>\n",
       "      <td>low</td>\n",
       "      <td>neutral</td>\n",
       "      <td>low</td>\n",
       "    </tr>\n",
       "  </tbody>\n",
       "</table>\n",
       "</div>"
      ],
      "text/plain": [
       "       Name Code Flag  CorruptionIndex  UVIndex  ObesityIndex  HappinessIndex  \\\n",
       "0   Austria  AUT   🇦🇹               76     1888          21.9          7.2460   \n",
       "1   Belgium  BEL   🇧🇪               75     1645          24.5          6.9230   \n",
       "2  Bulgaria  BGR   🇧🇬               42     2331          27.4          5.0110   \n",
       "3   Croatia  HRV   🇭🇷               48     1976          27.1          5.4318   \n",
       "4    Cyprus  CYP   🇨🇾               59     3439          22.6          6.0458   \n",
       "\n",
       "   DrugDeaths CorruptionIndex_Parsed UVIndex_Parsed ObesityIndex_Parsed  \\\n",
       "0         140                    low        neutral                 low   \n",
       "1         224                neutral            low                 low   \n",
       "2          69                   high           high                high   \n",
       "3          70                   high        neutral                high   \n",
       "4          17                neutral           high                 low   \n",
       "\n",
       "  HappinessIndex_Parsed DrugDeaths_Parsed  \n",
       "0                  high               low  \n",
       "1               neutral              high  \n",
       "2                   low               low  \n",
       "3                   low               low  \n",
       "4               neutral               low  "
      ]
     },
     "execution_count": 3,
     "metadata": {},
     "output_type": "execute_result"
    }
   ],
   "source": [
    "df.head()"
   ]
  },
  {
   "cell_type": "code",
   "execution_count": 4,
   "id": "eb0b04b2-fbb5-4a69-aae8-c4a21a96e22e",
   "metadata": {},
   "outputs": [],
   "source": [
    "list_of_components = []\n",
    "for index, row in df.iterrows():\n",
    "    body = row['UVIndex_Parsed']\n",
    "    eyebrows = row['CorruptionIndex_Parsed']\n",
    "    mouth = row['HappinessIndex_Parsed']\n",
    "    nose = row['DrugDeaths_Parsed']\n",
    "    neck = row['ObesityIndex_Parsed']\n",
    "    country= row['Name']\n",
    "    \n",
    "    component = '''<ChernoffFace chernoffAttributes= body: \"{}\",eyebrows: \"{}\",mouth: \"{}\",nose: \"{}\",neck: \"{}\",country=\"{}\" />'''.format(body, eyebrows,mouth,nose,neck,country)\n",
    "    \n",
    "    list_of_components.append(component)"
   ]
  },
  {
   "cell_type": "code",
   "execution_count": 5,
   "id": "15ef18b8-eb27-447e-bba4-a475353298ff",
   "metadata": {},
   "outputs": [
    {
     "name": "stdout",
     "output_type": "stream",
     "text": [
      "<ChernoffFace chernoffAttributes= body: \"neutral\",eyebrows: \"low\",mouth: \"high\",nose: \"low\",neck: \"low\",country=\"Austria\" />\n",
      "<ChernoffFace chernoffAttributes= body: \"low\",eyebrows: \"neutral\",mouth: \"neutral\",nose: \"high\",neck: \"low\",country=\"Belgium\" />\n",
      "<ChernoffFace chernoffAttributes= body: \"high\",eyebrows: \"high\",mouth: \"low\",nose: \"low\",neck: \"high\",country=\"Bulgaria\" />\n",
      "<ChernoffFace chernoffAttributes= body: \"neutral\",eyebrows: \"high\",mouth: \"low\",nose: \"low\",neck: \"high\",country=\"Croatia\" />\n",
      "<ChernoffFace chernoffAttributes= body: \"high\",eyebrows: \"neutral\",mouth: \"neutral\",nose: \"low\",neck: \"low\",country=\"Cyprus\" />\n",
      "<ChernoffFace chernoffAttributes= body: \"neutral\",eyebrows: \"neutral\",mouth: \"neutral\",nose: \"low\",neck: \"high\",country=\"Czechia\" />\n",
      "<ChernoffFace chernoffAttributes= body: \"neutral\",eyebrows: \"low\",mouth: \"high\",nose: \"low\",neck: \"low\",country=\"Denmark\" />\n",
      "<ChernoffFace chernoffAttributes= body: \"neutral\",eyebrows: \"neutral\",mouth: \"low\",nose: \"low\",neck: \"low\",country=\"Estonia\" />\n",
      "<ChernoffFace chernoffAttributes= body: \"low\",eyebrows: \"low\",mouth: \"high\",nose: \"high\",neck: \"high\",country=\"Finland\" />\n",
      "<ChernoffFace chernoffAttributes= body: \"neutral\",eyebrows: \"neutral\",mouth: \"neutral\",nose: \"high\",neck: \"low\",country=\"France\" />\n",
      "<ChernoffFace chernoffAttributes= body: \"neutral\",eyebrows: \"low\",mouth: \"neutral\",nose: \"high\",neck: \"high\",country=\"Germany\" />\n",
      "<ChernoffFace chernoffAttributes= body: \"high\",eyebrows: \"high\",mouth: \"low\",nose: \"low\",neck: \"high\",country=\"Greece\" />\n",
      "<ChernoffFace chernoffAttributes= body: \"neutral\",eyebrows: \"high\",mouth: \"low\",nose: \"low\",neck: \"high\",country=\"Hungary\" />\n",
      "<ChernoffFace chernoffAttributes= body: \"low\",eyebrows: \"neutral\",mouth: \"high\",nose: \"low\",neck: \"high\",country=\"Ireland\" />\n",
      "<ChernoffFace chernoffAttributes= body: \"high\",eyebrows: \"high\",mouth: \"neutral\",nose: \"high\",neck: \"low\",country=\"Italy\" />\n",
      "<ChernoffFace chernoffAttributes= body: \"low\",eyebrows: \"neutral\",mouth: \"low\",nose: \"low\",neck: \"high\",country=\"Latvia\" />\n",
      "<ChernoffFace chernoffAttributes= body: \"neutral\",eyebrows: \"neutral\",mouth: \"neutral\",nose: \"low\",neck: \"high\",country=\"Lithuania\" />\n",
      "<ChernoffFace chernoffAttributes= body: \"low\",eyebrows: \"low\",mouth: \"high\",nose: \"low\",neck: \"low\",country=\"Luxembourg\" />\n",
      "<ChernoffFace chernoffAttributes= body: \"high\",eyebrows: \"neutral\",mouth: \"neutral\",nose: \"low\",neck: \"high\",country=\"Malta\" />\n",
      "<ChernoffFace chernoffAttributes= body: \"low\",eyebrows: \"low\",mouth: \"high\",nose: \"low\",neck: \"low\",country=\"Netherlands\" />\n",
      "<ChernoffFace chernoffAttributes= body: \"neutral\",eyebrows: \"neutral\",mouth: \"neutral\",nose: \"low\",neck: \"high\",country=\"Poland\" />\n",
      "<ChernoffFace chernoffAttributes= body: \"high\",eyebrows: \"neutral\",mouth: \"low\",nose: \"low\",neck: \"low\",country=\"Portugal\" />\n",
      "<ChernoffFace chernoffAttributes= body: \"neutral\",eyebrows: \"high\",mouth: \"neutral\",nose: \"low\",neck: \"low\",country=\"Romania\" />\n",
      "<ChernoffFace chernoffAttributes= body: \"neutral\",eyebrows: \"high\",mouth: \"neutral\",nose: \"low\",neck: \"low\",country=\"Slovakia\" />\n",
      "<ChernoffFace chernoffAttributes= body: \"neutral\",eyebrows: \"neutral\",mouth: \"neutral\",nose: \"low\",neck: \"low\",country=\"Slovenia\" />\n",
      "<ChernoffFace chernoffAttributes= body: \"high\",eyebrows: \"neutral\",mouth: \"neutral\",nose: \"high\",neck: \"high\",country=\"Spain\" />\n",
      "<ChernoffFace chernoffAttributes= body: \"low\",eyebrows: \"low\",mouth: \"high\",nose: \"high\",neck: \"low\",country=\"Sweden\" />\n"
     ]
    }
   ],
   "source": [
    "for element in list_of_components:\n",
    "    print(element)"
   ]
  },
  {
   "cell_type": "code",
   "execution_count": 6,
   "id": "8b72b139-4940-46d0-975e-9b2aad1bd64f",
   "metadata": {},
   "outputs": [
    {
     "name": "stdout",
     "output_type": "stream",
     "text": [
      "CorruptionIndex_Parsed ['low' 'neutral' 'high']\n",
      "UVIndex_Parsed ['neutral' 'low' 'high']\n",
      "ObesityIndex_Parsed ['low' 'high']\n",
      "HappinessIndex_Parsed ['high' 'neutral' 'low']\n",
      "DrugDeaths_Parsed ['low' 'high']\n"
     ]
    }
   ],
   "source": [
    "for column in ['CorruptionIndex_Parsed','UVIndex_Parsed', 'ObesityIndex_Parsed','HappinessIndex_Parsed','DrugDeaths_Parsed']:\n",
    "    print(column, df[column].unique())"
   ]
  },
  {
   "cell_type": "code",
   "execution_count": null,
   "id": "1fb6b3ec-7298-4bd3-8340-8bea6baa8bc3",
   "metadata": {},
   "outputs": [],
   "source": []
  }
 ],
 "metadata": {
  "kernelspec": {
   "display_name": "Python 3 (ipykernel)",
   "language": "python",
   "name": "python3"
  },
  "language_info": {
   "codemirror_mode": {
    "name": "ipython",
    "version": 3
   },
   "file_extension": ".py",
   "mimetype": "text/x-python",
   "name": "python",
   "nbconvert_exporter": "python",
   "pygments_lexer": "ipython3",
   "version": "3.9.12"
  }
 },
 "nbformat": 4,
 "nbformat_minor": 5
}
