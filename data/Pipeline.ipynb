{
 "cells": [
  {
   "cell_type": "code",
   "execution_count": 1,
   "id": "6a2c5af4-6617-4f7b-82e7-a4f1df851c23",
   "metadata": {},
   "outputs": [],
   "source": [
    "import pandas as pd\n",
    "import numpy as np"
   ]
  },
  {
   "cell_type": "markdown",
   "id": "a9119b7e-eb85-4a00-b9fb-e47f21b6a0ae",
   "metadata": {
    "tags": []
   },
   "source": [
    "### Global"
   ]
  },
  {
   "cell_type": "code",
   "execution_count": 2,
   "id": "60c4fdd4-16fc-41e2-b926-0fa1164f76d0",
   "metadata": {},
   "outputs": [
    {
     "data": {
      "text/html": [
       "<div>\n",
       "<style scoped>\n",
       "    .dataframe tbody tr th:only-of-type {\n",
       "        vertical-align: middle;\n",
       "    }\n",
       "\n",
       "    .dataframe tbody tr th {\n",
       "        vertical-align: top;\n",
       "    }\n",
       "\n",
       "    .dataframe thead th {\n",
       "        text-align: right;\n",
       "    }\n",
       "</style>\n",
       "<table border=\"1\" class=\"dataframe\">\n",
       "  <thead>\n",
       "    <tr style=\"text-align: right;\">\n",
       "      <th></th>\n",
       "      <th>Name</th>\n",
       "      <th>Code</th>\n",
       "      <th>Flag</th>\n",
       "    </tr>\n",
       "  </thead>\n",
       "  <tbody>\n",
       "    <tr>\n",
       "      <th>0</th>\n",
       "      <td>Austria</td>\n",
       "      <td>AUT</td>\n",
       "      <td>🇦🇹</td>\n",
       "    </tr>\n",
       "    <tr>\n",
       "      <th>1</th>\n",
       "      <td>Belgium</td>\n",
       "      <td>BEL</td>\n",
       "      <td>🇧🇪</td>\n",
       "    </tr>\n",
       "    <tr>\n",
       "      <th>2</th>\n",
       "      <td>Bulgaria</td>\n",
       "      <td>BGR</td>\n",
       "      <td>🇧🇬</td>\n",
       "    </tr>\n",
       "    <tr>\n",
       "      <th>3</th>\n",
       "      <td>Croatia</td>\n",
       "      <td>HRV</td>\n",
       "      <td>🇭🇷</td>\n",
       "    </tr>\n",
       "    <tr>\n",
       "      <th>4</th>\n",
       "      <td>Cyprus</td>\n",
       "      <td>CYP</td>\n",
       "      <td>🇨🇾</td>\n",
       "    </tr>\n",
       "  </tbody>\n",
       "</table>\n",
       "</div>"
      ],
      "text/plain": [
       "       Name Code Flag\n",
       "0   Austria  AUT   🇦🇹\n",
       "1   Belgium  BEL   🇧🇪\n",
       "2  Bulgaria  BGR   🇧🇬\n",
       "3   Croatia  HRV   🇭🇷\n",
       "4    Cyprus  CYP   🇨🇾"
      ]
     },
     "execution_count": 2,
     "metadata": {},
     "output_type": "execute_result"
    }
   ],
   "source": [
    "eu_countries = ['Austria','Belgium','Bulgaria','Croatia','Cyprus','Czechia','Denmark','Estonia',\\\n",
    "                'Finland','France','Germany','Greece','Hungary','Ireland','Italy','Latvia','Lithuania',\\\n",
    "                'Luxembourg','Malta','Netherlands','Poland','Portugal','Romania','Slovakia','Slovenia','Spain','Sweden']\n",
    "\n",
    "eu_code = ['AUT', 'BEL', 'BGR', 'HRV', 'CYP', 'CZE', 'DNK', 'EST', 'FIN',\\\n",
    "                     'FRA', 'DEU', 'GRC', 'HUN', 'IRL', 'ITA', 'LVA', 'LTU', 'LUX',\\\n",
    "                     'MLT', 'NLD', 'POL', 'PRT', 'ROU', 'SVK', 'SVN', 'ESP', 'SWE']\n",
    "\n",
    "eu_flags = flags_emojis = ['🇦🇹', '🇧🇪', '🇧🇬', '🇭🇷', '🇨🇾', '🇨🇿', '🇩🇰', '🇪🇪', '🇫🇮', '🇫🇷', '🇩🇪', \\\n",
    "                           '🇬🇷', '🇭🇺', '🇮🇪', '🇮🇹', '🇱🇻', '🇱🇹', '🇱🇺', '🇲🇹', '🇳🇱', '🇵🇱', '🇵🇹', \\\n",
    "                           '🇷🇴', '🇸🇰', '🇸🇮', '🇪🇸', '🇸🇪']\n",
    "\n",
    "# Now, you have a list of flag emojis in the desired order.\n",
    "\n",
    "\n",
    "final_dataset = pd.DataFrame({'Name': eu_countries, 'Code': eu_code, 'Flag': eu_flags})\n",
    "final_dataset.head()"
   ]
  },
  {
   "cell_type": "markdown",
   "id": "683bc122-3f8a-4079-8e5e-1b9c61661310",
   "metadata": {
    "tags": []
   },
   "source": [
    "# Aggregation and Cleaning "
   ]
  },
  {
   "cell_type": "markdown",
   "id": "c862bebe-b0a6-4c43-870b-9067e1dec521",
   "metadata": {
    "tags": []
   },
   "source": [
    "### Coruption"
   ]
  },
  {
   "cell_type": "code",
   "execution_count": 3,
   "id": "a9cc198e-15b8-4011-b160-82f2884ebe28",
   "metadata": {},
   "outputs": [
    {
     "data": {
      "text/html": [
       "<div>\n",
       "<style scoped>\n",
       "    .dataframe tbody tr th:only-of-type {\n",
       "        vertical-align: middle;\n",
       "    }\n",
       "\n",
       "    .dataframe tbody tr th {\n",
       "        vertical-align: top;\n",
       "    }\n",
       "\n",
       "    .dataframe thead th {\n",
       "        text-align: right;\n",
       "    }\n",
       "</style>\n",
       "<table border=\"1\" class=\"dataframe\">\n",
       "  <thead>\n",
       "    <tr style=\"text-align: right;\">\n",
       "      <th></th>\n",
       "      <th>Entity</th>\n",
       "      <th>Code</th>\n",
       "      <th>Year</th>\n",
       "      <th>Corruption Perception Index - Transparency International (2018)</th>\n",
       "    </tr>\n",
       "  </thead>\n",
       "  <tbody>\n",
       "    <tr>\n",
       "      <th>0</th>\n",
       "      <td>Afghanistan</td>\n",
       "      <td>AFG</td>\n",
       "      <td>2012</td>\n",
       "      <td>8</td>\n",
       "    </tr>\n",
       "    <tr>\n",
       "      <th>1</th>\n",
       "      <td>Afghanistan</td>\n",
       "      <td>AFG</td>\n",
       "      <td>2013</td>\n",
       "      <td>8</td>\n",
       "    </tr>\n",
       "    <tr>\n",
       "      <th>2</th>\n",
       "      <td>Afghanistan</td>\n",
       "      <td>AFG</td>\n",
       "      <td>2014</td>\n",
       "      <td>12</td>\n",
       "    </tr>\n",
       "    <tr>\n",
       "      <th>3</th>\n",
       "      <td>Afghanistan</td>\n",
       "      <td>AFG</td>\n",
       "      <td>2015</td>\n",
       "      <td>11</td>\n",
       "    </tr>\n",
       "    <tr>\n",
       "      <th>4</th>\n",
       "      <td>Afghanistan</td>\n",
       "      <td>AFG</td>\n",
       "      <td>2016</td>\n",
       "      <td>15</td>\n",
       "    </tr>\n",
       "  </tbody>\n",
       "</table>\n",
       "</div>"
      ],
      "text/plain": [
       "        Entity Code  Year  \\\n",
       "0  Afghanistan  AFG  2012   \n",
       "1  Afghanistan  AFG  2013   \n",
       "2  Afghanistan  AFG  2014   \n",
       "3  Afghanistan  AFG  2015   \n",
       "4  Afghanistan  AFG  2016   \n",
       "\n",
       "   Corruption Perception Index - Transparency International (2018)  \n",
       "0                                                  8                \n",
       "1                                                  8                \n",
       "2                                                 12                \n",
       "3                                                 11                \n",
       "4                                                 15                "
      ]
     },
     "execution_count": 3,
     "metadata": {},
     "output_type": "execute_result"
    }
   ],
   "source": [
    "df = pd.read_csv('./Corruption/TI-corruption-perception-index.csv')\n",
    "df.head()"
   ]
  },
  {
   "cell_type": "code",
   "execution_count": 4,
   "id": "c0aaec04-0d8f-4e51-b476-ae140a525c16",
   "metadata": {},
   "outputs": [],
   "source": [
    "res = df[(df['Entity'].isin(eu_countries)) & (df['Year'] == 2018) ]"
   ]
  },
  {
   "cell_type": "code",
   "execution_count": 5,
   "id": "ce213c2d-f4b4-42a0-abdc-170c3453eb49",
   "metadata": {},
   "outputs": [
    {
     "data": {
      "text/html": [
       "<div>\n",
       "<style scoped>\n",
       "    .dataframe tbody tr th:only-of-type {\n",
       "        vertical-align: middle;\n",
       "    }\n",
       "\n",
       "    .dataframe tbody tr th {\n",
       "        vertical-align: top;\n",
       "    }\n",
       "\n",
       "    .dataframe thead th {\n",
       "        text-align: right;\n",
       "    }\n",
       "</style>\n",
       "<table border=\"1\" class=\"dataframe\">\n",
       "  <thead>\n",
       "    <tr style=\"text-align: right;\">\n",
       "      <th></th>\n",
       "      <th>Name</th>\n",
       "      <th>Code</th>\n",
       "      <th>Flag</th>\n",
       "      <th>CorruptionIndex</th>\n",
       "    </tr>\n",
       "  </thead>\n",
       "  <tbody>\n",
       "    <tr>\n",
       "      <th>0</th>\n",
       "      <td>Austria</td>\n",
       "      <td>AUT</td>\n",
       "      <td>🇦🇹</td>\n",
       "      <td>76</td>\n",
       "    </tr>\n",
       "    <tr>\n",
       "      <th>1</th>\n",
       "      <td>Belgium</td>\n",
       "      <td>BEL</td>\n",
       "      <td>🇧🇪</td>\n",
       "      <td>75</td>\n",
       "    </tr>\n",
       "    <tr>\n",
       "      <th>2</th>\n",
       "      <td>Bulgaria</td>\n",
       "      <td>BGR</td>\n",
       "      <td>🇧🇬</td>\n",
       "      <td>42</td>\n",
       "    </tr>\n",
       "    <tr>\n",
       "      <th>3</th>\n",
       "      <td>Croatia</td>\n",
       "      <td>HRV</td>\n",
       "      <td>🇭🇷</td>\n",
       "      <td>48</td>\n",
       "    </tr>\n",
       "    <tr>\n",
       "      <th>4</th>\n",
       "      <td>Cyprus</td>\n",
       "      <td>CYP</td>\n",
       "      <td>🇨🇾</td>\n",
       "      <td>59</td>\n",
       "    </tr>\n",
       "  </tbody>\n",
       "</table>\n",
       "</div>"
      ],
      "text/plain": [
       "       Name Code Flag  CorruptionIndex\n",
       "0   Austria  AUT   🇦🇹               76\n",
       "1   Belgium  BEL   🇧🇪               75\n",
       "2  Bulgaria  BGR   🇧🇬               42\n",
       "3   Croatia  HRV   🇭🇷               48\n",
       "4    Cyprus  CYP   🇨🇾               59"
      ]
     },
     "execution_count": 5,
     "metadata": {},
     "output_type": "execute_result"
    }
   ],
   "source": [
    "final_dataset = final_dataset.merge(res[['Code', 'Corruption Perception Index - Transparency International (2018)']], on='Code')\n",
    "final_dataset = final_dataset.rename(columns={'Corruption Perception Index - Transparency International (2018)': 'CorruptionIndex'})\n",
    "final_dataset.head()"
   ]
  },
  {
   "cell_type": "markdown",
   "id": "cb422aad-c9a3-43f2-a12d-4d83f5aa877c",
   "metadata": {
    "tags": []
   },
   "source": [
    "### UV Index"
   ]
  },
  {
   "cell_type": "code",
   "execution_count": 6,
   "id": "c1b3c125-65ca-46bb-a422-2a4e57782a84",
   "metadata": {},
   "outputs": [
    {
     "data": {
      "text/html": [
       "<div>\n",
       "<style scoped>\n",
       "    .dataframe tbody tr th:only-of-type {\n",
       "        vertical-align: middle;\n",
       "    }\n",
       "\n",
       "    .dataframe tbody tr th {\n",
       "        vertical-align: top;\n",
       "    }\n",
       "\n",
       "    .dataframe thead th {\n",
       "        text-align: right;\n",
       "    }\n",
       "</style>\n",
       "<table border=\"1\" class=\"dataframe\">\n",
       "  <thead>\n",
       "    <tr style=\"text-align: right;\">\n",
       "      <th></th>\n",
       "      <th>Name</th>\n",
       "      <th>Year</th>\n",
       "    </tr>\n",
       "  </thead>\n",
       "  <tbody>\n",
       "    <tr>\n",
       "      <th>0</th>\n",
       "      <td>Afghanistan</td>\n",
       "      <td>4132</td>\n",
       "    </tr>\n",
       "    <tr>\n",
       "      <th>1</th>\n",
       "      <td>Albania</td>\n",
       "      <td>2542</td>\n",
       "    </tr>\n",
       "    <tr>\n",
       "      <th>2</th>\n",
       "      <td>Algeria</td>\n",
       "      <td>3253</td>\n",
       "    </tr>\n",
       "    <tr>\n",
       "      <th>3</th>\n",
       "      <td>Andorra</td>\n",
       "      <td>2469</td>\n",
       "    </tr>\n",
       "    <tr>\n",
       "      <th>4</th>\n",
       "      <td>Angola</td>\n",
       "      <td>5287</td>\n",
       "    </tr>\n",
       "  </tbody>\n",
       "</table>\n",
       "</div>"
      ],
      "text/plain": [
       "          Name  Year\n",
       "0  Afghanistan  4132\n",
       "1      Albania  2542\n",
       "2      Algeria  3253\n",
       "3      Andorra  2469\n",
       "4       Angola  5287"
      ]
     },
     "execution_count": 6,
     "metadata": {},
     "output_type": "execute_result"
    }
   ],
   "source": [
    "df = pd.read_csv('./UVRadiation/data.tsv', sep='\\t')\n",
    "df.head()"
   ]
  },
  {
   "cell_type": "code",
   "execution_count": 7,
   "id": "190e1e94-36ee-4d97-92e8-39ff9701b28a",
   "metadata": {},
   "outputs": [],
   "source": [
    "res = df[(df['Name'].isin(eu_countries))]"
   ]
  },
  {
   "cell_type": "code",
   "execution_count": 8,
   "id": "911f298e-9ef3-40c5-a78a-fe4e4a96656d",
   "metadata": {},
   "outputs": [
    {
     "data": {
      "text/html": [
       "<div>\n",
       "<style scoped>\n",
       "    .dataframe tbody tr th:only-of-type {\n",
       "        vertical-align: middle;\n",
       "    }\n",
       "\n",
       "    .dataframe tbody tr th {\n",
       "        vertical-align: top;\n",
       "    }\n",
       "\n",
       "    .dataframe thead th {\n",
       "        text-align: right;\n",
       "    }\n",
       "</style>\n",
       "<table border=\"1\" class=\"dataframe\">\n",
       "  <thead>\n",
       "    <tr style=\"text-align: right;\">\n",
       "      <th></th>\n",
       "      <th>Name</th>\n",
       "      <th>Code</th>\n",
       "      <th>Flag</th>\n",
       "      <th>CorruptionIndex</th>\n",
       "      <th>UVIndex</th>\n",
       "    </tr>\n",
       "  </thead>\n",
       "  <tbody>\n",
       "    <tr>\n",
       "      <th>0</th>\n",
       "      <td>Austria</td>\n",
       "      <td>AUT</td>\n",
       "      <td>🇦🇹</td>\n",
       "      <td>76</td>\n",
       "      <td>1888</td>\n",
       "    </tr>\n",
       "    <tr>\n",
       "      <th>1</th>\n",
       "      <td>Belgium</td>\n",
       "      <td>BEL</td>\n",
       "      <td>🇧🇪</td>\n",
       "      <td>75</td>\n",
       "      <td>1645</td>\n",
       "    </tr>\n",
       "    <tr>\n",
       "      <th>2</th>\n",
       "      <td>Bulgaria</td>\n",
       "      <td>BGR</td>\n",
       "      <td>🇧🇬</td>\n",
       "      <td>42</td>\n",
       "      <td>2331</td>\n",
       "    </tr>\n",
       "    <tr>\n",
       "      <th>3</th>\n",
       "      <td>Croatia</td>\n",
       "      <td>HRV</td>\n",
       "      <td>🇭🇷</td>\n",
       "      <td>48</td>\n",
       "      <td>1976</td>\n",
       "    </tr>\n",
       "    <tr>\n",
       "      <th>4</th>\n",
       "      <td>Cyprus</td>\n",
       "      <td>CYP</td>\n",
       "      <td>🇨🇾</td>\n",
       "      <td>59</td>\n",
       "      <td>3439</td>\n",
       "    </tr>\n",
       "  </tbody>\n",
       "</table>\n",
       "</div>"
      ],
      "text/plain": [
       "       Name Code Flag  CorruptionIndex  UVIndex\n",
       "0   Austria  AUT   🇦🇹               76     1888\n",
       "1   Belgium  BEL   🇧🇪               75     1645\n",
       "2  Bulgaria  BGR   🇧🇬               42     2331\n",
       "3   Croatia  HRV   🇭🇷               48     1976\n",
       "4    Cyprus  CYP   🇨🇾               59     3439"
      ]
     },
     "execution_count": 8,
     "metadata": {},
     "output_type": "execute_result"
    }
   ],
   "source": [
    "final_dataset = final_dataset.merge(res[['Name', 'Year']], on='Name')\n",
    "final_dataset = final_dataset.rename(columns={'Year': 'UVIndex'})\n",
    "final_dataset.head()"
   ]
  },
  {
   "cell_type": "markdown",
   "id": "f98c96a4-341a-48a7-95c7-94dc76f3fe4e",
   "metadata": {
    "tags": []
   },
   "source": [
    "### Obesity"
   ]
  },
  {
   "cell_type": "code",
   "execution_count": 9,
   "id": "84f8c7d7-6d37-4678-b8a4-c76daa16067f",
   "metadata": {},
   "outputs": [
    {
     "data": {
      "text/html": [
       "<div>\n",
       "<style scoped>\n",
       "    .dataframe tbody tr th:only-of-type {\n",
       "        vertical-align: middle;\n",
       "    }\n",
       "\n",
       "    .dataframe tbody tr th {\n",
       "        vertical-align: top;\n",
       "    }\n",
       "\n",
       "    .dataframe thead th {\n",
       "        text-align: right;\n",
       "    }\n",
       "</style>\n",
       "<table border=\"1\" class=\"dataframe\">\n",
       "  <thead>\n",
       "    <tr style=\"text-align: right;\">\n",
       "      <th></th>\n",
       "      <th>Entity</th>\n",
       "      <th>Code</th>\n",
       "      <th>Year</th>\n",
       "      <th>ObesityIndex</th>\n",
       "    </tr>\n",
       "  </thead>\n",
       "  <tbody>\n",
       "    <tr>\n",
       "      <th>0</th>\n",
       "      <td>Afghanistan</td>\n",
       "      <td>AFG</td>\n",
       "      <td>1975</td>\n",
       "      <td>0.4</td>\n",
       "    </tr>\n",
       "    <tr>\n",
       "      <th>1</th>\n",
       "      <td>Afghanistan</td>\n",
       "      <td>AFG</td>\n",
       "      <td>1976</td>\n",
       "      <td>0.4</td>\n",
       "    </tr>\n",
       "    <tr>\n",
       "      <th>2</th>\n",
       "      <td>Afghanistan</td>\n",
       "      <td>AFG</td>\n",
       "      <td>1977</td>\n",
       "      <td>0.5</td>\n",
       "    </tr>\n",
       "    <tr>\n",
       "      <th>3</th>\n",
       "      <td>Afghanistan</td>\n",
       "      <td>AFG</td>\n",
       "      <td>1978</td>\n",
       "      <td>0.5</td>\n",
       "    </tr>\n",
       "    <tr>\n",
       "      <th>4</th>\n",
       "      <td>Afghanistan</td>\n",
       "      <td>AFG</td>\n",
       "      <td>1979</td>\n",
       "      <td>0.5</td>\n",
       "    </tr>\n",
       "  </tbody>\n",
       "</table>\n",
       "</div>"
      ],
      "text/plain": [
       "        Entity Code  Year  ObesityIndex\n",
       "0  Afghanistan  AFG  1975           0.4\n",
       "1  Afghanistan  AFG  1976           0.4\n",
       "2  Afghanistan  AFG  1977           0.5\n",
       "3  Afghanistan  AFG  1978           0.5\n",
       "4  Afghanistan  AFG  1979           0.5"
      ]
     },
     "execution_count": 9,
     "metadata": {},
     "output_type": "execute_result"
    }
   ],
   "source": [
    "df = pd.read_csv('./Obesity/share-of-adults-defined-as-obese.csv', sep=';')\n",
    "df.head()"
   ]
  },
  {
   "cell_type": "code",
   "execution_count": 10,
   "id": "54733131-6079-4d2f-ada6-b0a2b3ddfe95",
   "metadata": {},
   "outputs": [],
   "source": [
    "res = df[(df['Entity'].isin(eu_countries)) & (df['Year'] == 2016)]"
   ]
  },
  {
   "cell_type": "code",
   "execution_count": 11,
   "id": "57cd0c88-11e2-46b0-a76d-9aa37aebb27e",
   "metadata": {},
   "outputs": [
    {
     "data": {
      "text/html": [
       "<div>\n",
       "<style scoped>\n",
       "    .dataframe tbody tr th:only-of-type {\n",
       "        vertical-align: middle;\n",
       "    }\n",
       "\n",
       "    .dataframe tbody tr th {\n",
       "        vertical-align: top;\n",
       "    }\n",
       "\n",
       "    .dataframe thead th {\n",
       "        text-align: right;\n",
       "    }\n",
       "</style>\n",
       "<table border=\"1\" class=\"dataframe\">\n",
       "  <thead>\n",
       "    <tr style=\"text-align: right;\">\n",
       "      <th></th>\n",
       "      <th>Name</th>\n",
       "      <th>Code</th>\n",
       "      <th>Flag</th>\n",
       "      <th>CorruptionIndex</th>\n",
       "      <th>UVIndex</th>\n",
       "      <th>ObesityIndex</th>\n",
       "    </tr>\n",
       "  </thead>\n",
       "  <tbody>\n",
       "    <tr>\n",
       "      <th>0</th>\n",
       "      <td>Austria</td>\n",
       "      <td>AUT</td>\n",
       "      <td>🇦🇹</td>\n",
       "      <td>76</td>\n",
       "      <td>1888</td>\n",
       "      <td>21.9</td>\n",
       "    </tr>\n",
       "    <tr>\n",
       "      <th>1</th>\n",
       "      <td>Belgium</td>\n",
       "      <td>BEL</td>\n",
       "      <td>🇧🇪</td>\n",
       "      <td>75</td>\n",
       "      <td>1645</td>\n",
       "      <td>24.5</td>\n",
       "    </tr>\n",
       "    <tr>\n",
       "      <th>2</th>\n",
       "      <td>Bulgaria</td>\n",
       "      <td>BGR</td>\n",
       "      <td>🇧🇬</td>\n",
       "      <td>42</td>\n",
       "      <td>2331</td>\n",
       "      <td>27.4</td>\n",
       "    </tr>\n",
       "    <tr>\n",
       "      <th>3</th>\n",
       "      <td>Croatia</td>\n",
       "      <td>HRV</td>\n",
       "      <td>🇭🇷</td>\n",
       "      <td>48</td>\n",
       "      <td>1976</td>\n",
       "      <td>27.1</td>\n",
       "    </tr>\n",
       "    <tr>\n",
       "      <th>4</th>\n",
       "      <td>Cyprus</td>\n",
       "      <td>CYP</td>\n",
       "      <td>🇨🇾</td>\n",
       "      <td>59</td>\n",
       "      <td>3439</td>\n",
       "      <td>22.6</td>\n",
       "    </tr>\n",
       "  </tbody>\n",
       "</table>\n",
       "</div>"
      ],
      "text/plain": [
       "       Name Code Flag  CorruptionIndex  UVIndex  ObesityIndex\n",
       "0   Austria  AUT   🇦🇹               76     1888          21.9\n",
       "1   Belgium  BEL   🇧🇪               75     1645          24.5\n",
       "2  Bulgaria  BGR   🇧🇬               42     2331          27.4\n",
       "3   Croatia  HRV   🇭🇷               48     1976          27.1\n",
       "4    Cyprus  CYP   🇨🇾               59     3439          22.6"
      ]
     },
     "execution_count": 11,
     "metadata": {},
     "output_type": "execute_result"
    }
   ],
   "source": [
    "final_dataset = final_dataset.merge(res[['Code', 'ObesityIndex']], on='Code')\n",
    "final_dataset.head()"
   ]
  },
  {
   "cell_type": "markdown",
   "id": "584bda54-6ff2-47a9-a73d-806fd37c93e3",
   "metadata": {},
   "source": [
    "### Hapiness"
   ]
  },
  {
   "cell_type": "code",
   "execution_count": 12,
   "id": "81073dfa-7942-43bf-b777-691a09a214d7",
   "metadata": {},
   "outputs": [
    {
     "data": {
      "text/html": [
       "<div>\n",
       "<style scoped>\n",
       "    .dataframe tbody tr th:only-of-type {\n",
       "        vertical-align: middle;\n",
       "    }\n",
       "\n",
       "    .dataframe tbody tr th {\n",
       "        vertical-align: top;\n",
       "    }\n",
       "\n",
       "    .dataframe thead th {\n",
       "        text-align: right;\n",
       "    }\n",
       "</style>\n",
       "<table border=\"1\" class=\"dataframe\">\n",
       "  <thead>\n",
       "    <tr style=\"text-align: right;\">\n",
       "      <th></th>\n",
       "      <th>Entity</th>\n",
       "      <th>Code</th>\n",
       "      <th>Year</th>\n",
       "      <th>Cantril ladder score</th>\n",
       "      <th>Share of people who are happy (World Value Survey 2014)</th>\n",
       "      <th>Population (historical estimates)</th>\n",
       "      <th>Continent</th>\n",
       "    </tr>\n",
       "  </thead>\n",
       "  <tbody>\n",
       "    <tr>\n",
       "      <th>0</th>\n",
       "      <td>Abkhazia</td>\n",
       "      <td>OWID_ABK</td>\n",
       "      <td>2015</td>\n",
       "      <td>NaN</td>\n",
       "      <td>NaN</td>\n",
       "      <td>NaN</td>\n",
       "      <td>Asia</td>\n",
       "    </tr>\n",
       "    <tr>\n",
       "      <th>1</th>\n",
       "      <td>Afghanistan</td>\n",
       "      <td>AFG</td>\n",
       "      <td>2022</td>\n",
       "      <td>1.8590</td>\n",
       "      <td>NaN</td>\n",
       "      <td>NaN</td>\n",
       "      <td>NaN</td>\n",
       "    </tr>\n",
       "    <tr>\n",
       "      <th>2</th>\n",
       "      <td>Afghanistan</td>\n",
       "      <td>AFG</td>\n",
       "      <td>2021</td>\n",
       "      <td>2.4038</td>\n",
       "      <td>NaN</td>\n",
       "      <td>40099460.0</td>\n",
       "      <td>NaN</td>\n",
       "    </tr>\n",
       "    <tr>\n",
       "      <th>3</th>\n",
       "      <td>Afghanistan</td>\n",
       "      <td>AFG</td>\n",
       "      <td>2020</td>\n",
       "      <td>2.5229</td>\n",
       "      <td>NaN</td>\n",
       "      <td>38972236.0</td>\n",
       "      <td>NaN</td>\n",
       "    </tr>\n",
       "    <tr>\n",
       "      <th>4</th>\n",
       "      <td>Afghanistan</td>\n",
       "      <td>AFG</td>\n",
       "      <td>2019</td>\n",
       "      <td>2.5669</td>\n",
       "      <td>NaN</td>\n",
       "      <td>37769496.0</td>\n",
       "      <td>NaN</td>\n",
       "    </tr>\n",
       "  </tbody>\n",
       "</table>\n",
       "</div>"
      ],
      "text/plain": [
       "        Entity      Code  Year  Cantril ladder score  \\\n",
       "0     Abkhazia  OWID_ABK  2015                   NaN   \n",
       "1  Afghanistan       AFG  2022                1.8590   \n",
       "2  Afghanistan       AFG  2021                2.4038   \n",
       "3  Afghanistan       AFG  2020                2.5229   \n",
       "4  Afghanistan       AFG  2019                2.5669   \n",
       "\n",
       "   Share of people who are happy (World Value Survey 2014)  \\\n",
       "0                                                NaN         \n",
       "1                                                NaN         \n",
       "2                                                NaN         \n",
       "3                                                NaN         \n",
       "4                                                NaN         \n",
       "\n",
       "   Population (historical estimates) Continent  \n",
       "0                                NaN      Asia  \n",
       "1                                NaN       NaN  \n",
       "2                         40099460.0       NaN  \n",
       "3                         38972236.0       NaN  \n",
       "4                         37769496.0       NaN  "
      ]
     },
     "execution_count": 12,
     "metadata": {},
     "output_type": "execute_result"
    }
   ],
   "source": [
    "df = pd.read_csv('./Happiness/Happiness-WVS-vs-Gallup.csv')\n",
    "df.head()"
   ]
  },
  {
   "cell_type": "code",
   "execution_count": 13,
   "id": "283633ce-80b2-4796-ba9a-ca9da242533d",
   "metadata": {},
   "outputs": [],
   "source": [
    "res = df[(df['Entity'].isin(eu_countries)) & (df['Year'] == 2018)].loc[:,['Code', 'Cantril ladder score']]"
   ]
  },
  {
   "cell_type": "code",
   "execution_count": 14,
   "id": "c0284c1e-4fa2-4262-8089-e28ffbedd54b",
   "metadata": {},
   "outputs": [
    {
     "data": {
      "text/html": [
       "<div>\n",
       "<style scoped>\n",
       "    .dataframe tbody tr th:only-of-type {\n",
       "        vertical-align: middle;\n",
       "    }\n",
       "\n",
       "    .dataframe tbody tr th {\n",
       "        vertical-align: top;\n",
       "    }\n",
       "\n",
       "    .dataframe thead th {\n",
       "        text-align: right;\n",
       "    }\n",
       "</style>\n",
       "<table border=\"1\" class=\"dataframe\">\n",
       "  <thead>\n",
       "    <tr style=\"text-align: right;\">\n",
       "      <th></th>\n",
       "      <th>Name</th>\n",
       "      <th>Code</th>\n",
       "      <th>Flag</th>\n",
       "      <th>CorruptionIndex</th>\n",
       "      <th>UVIndex</th>\n",
       "      <th>ObesityIndex</th>\n",
       "      <th>HappinessIndex</th>\n",
       "    </tr>\n",
       "  </thead>\n",
       "  <tbody>\n",
       "    <tr>\n",
       "      <th>0</th>\n",
       "      <td>Austria</td>\n",
       "      <td>AUT</td>\n",
       "      <td>🇦🇹</td>\n",
       "      <td>76</td>\n",
       "      <td>1888</td>\n",
       "      <td>21.9</td>\n",
       "      <td>7.2460</td>\n",
       "    </tr>\n",
       "    <tr>\n",
       "      <th>1</th>\n",
       "      <td>Belgium</td>\n",
       "      <td>BEL</td>\n",
       "      <td>🇧🇪</td>\n",
       "      <td>75</td>\n",
       "      <td>1645</td>\n",
       "      <td>24.5</td>\n",
       "      <td>6.9230</td>\n",
       "    </tr>\n",
       "    <tr>\n",
       "      <th>2</th>\n",
       "      <td>Bulgaria</td>\n",
       "      <td>BGR</td>\n",
       "      <td>🇧🇬</td>\n",
       "      <td>42</td>\n",
       "      <td>2331</td>\n",
       "      <td>27.4</td>\n",
       "      <td>5.0110</td>\n",
       "    </tr>\n",
       "    <tr>\n",
       "      <th>3</th>\n",
       "      <td>Croatia</td>\n",
       "      <td>HRV</td>\n",
       "      <td>🇭🇷</td>\n",
       "      <td>48</td>\n",
       "      <td>1976</td>\n",
       "      <td>27.1</td>\n",
       "      <td>5.4318</td>\n",
       "    </tr>\n",
       "    <tr>\n",
       "      <th>4</th>\n",
       "      <td>Cyprus</td>\n",
       "      <td>CYP</td>\n",
       "      <td>🇨🇾</td>\n",
       "      <td>59</td>\n",
       "      <td>3439</td>\n",
       "      <td>22.6</td>\n",
       "      <td>6.0458</td>\n",
       "    </tr>\n",
       "  </tbody>\n",
       "</table>\n",
       "</div>"
      ],
      "text/plain": [
       "       Name Code Flag  CorruptionIndex  UVIndex  ObesityIndex  HappinessIndex\n",
       "0   Austria  AUT   🇦🇹               76     1888          21.9          7.2460\n",
       "1   Belgium  BEL   🇧🇪               75     1645          24.5          6.9230\n",
       "2  Bulgaria  BGR   🇧🇬               42     2331          27.4          5.0110\n",
       "3   Croatia  HRV   🇭🇷               48     1976          27.1          5.4318\n",
       "4    Cyprus  CYP   🇨🇾               59     3439          22.6          6.0458"
      ]
     },
     "execution_count": 14,
     "metadata": {},
     "output_type": "execute_result"
    }
   ],
   "source": [
    "final_dataset = final_dataset.merge(res, on='Code')\n",
    "final_dataset = final_dataset.rename(columns={'Cantril ladder score': 'HappinessIndex'})\n",
    "final_dataset.head()"
   ]
  },
  {
   "cell_type": "markdown",
   "id": "e532ad85-eaab-49d8-ac62-e57d052b18a7",
   "metadata": {},
   "source": [
    "### Drugs death rate"
   ]
  },
  {
   "cell_type": "code",
   "execution_count": 15,
   "id": "3494672e-04e3-4cc9-9f16-124726a8c9c1",
   "metadata": {},
   "outputs": [
    {
     "data": {
      "text/html": [
       "<div>\n",
       "<style scoped>\n",
       "    .dataframe tbody tr th:only-of-type {\n",
       "        vertical-align: middle;\n",
       "    }\n",
       "\n",
       "    .dataframe tbody tr th {\n",
       "        vertical-align: top;\n",
       "    }\n",
       "\n",
       "    .dataframe thead th {\n",
       "        text-align: right;\n",
       "    }\n",
       "</style>\n",
       "<table border=\"1\" class=\"dataframe\">\n",
       "  <thead>\n",
       "    <tr style=\"text-align: right;\">\n",
       "      <th></th>\n",
       "      <th>Name</th>\n",
       "      <th>Code</th>\n",
       "      <th>Year</th>\n",
       "      <th>DrugDeaths</th>\n",
       "    </tr>\n",
       "  </thead>\n",
       "  <tbody>\n",
       "    <tr>\n",
       "      <th>0</th>\n",
       "      <td>Afghanistan</td>\n",
       "      <td>AFG</td>\n",
       "      <td>1990</td>\n",
       "      <td>93.0</td>\n",
       "    </tr>\n",
       "    <tr>\n",
       "      <th>1</th>\n",
       "      <td>Afghanistan</td>\n",
       "      <td>AFG</td>\n",
       "      <td>1991</td>\n",
       "      <td>102.0</td>\n",
       "    </tr>\n",
       "    <tr>\n",
       "      <th>2</th>\n",
       "      <td>Afghanistan</td>\n",
       "      <td>AFG</td>\n",
       "      <td>1992</td>\n",
       "      <td>118.0</td>\n",
       "    </tr>\n",
       "    <tr>\n",
       "      <th>3</th>\n",
       "      <td>Afghanistan</td>\n",
       "      <td>AFG</td>\n",
       "      <td>1993</td>\n",
       "      <td>132.0</td>\n",
       "    </tr>\n",
       "    <tr>\n",
       "      <th>4</th>\n",
       "      <td>Afghanistan</td>\n",
       "      <td>AFG</td>\n",
       "      <td>1994</td>\n",
       "      <td>142.0</td>\n",
       "    </tr>\n",
       "  </tbody>\n",
       "</table>\n",
       "</div>"
      ],
      "text/plain": [
       "          Name Code  Year  DrugDeaths\n",
       "0  Afghanistan  AFG  1990        93.0\n",
       "1  Afghanistan  AFG  1991       102.0\n",
       "2  Afghanistan  AFG  1992       118.0\n",
       "3  Afghanistan  AFG  1993       132.0\n",
       "4  Afghanistan  AFG  1994       142.0"
      ]
     },
     "execution_count": 15,
     "metadata": {},
     "output_type": "execute_result"
    }
   ],
   "source": [
    "df = pd.read_csv('./Drugs/deaths-illicit-drugs.tsv', sep='\\t')\n",
    "df.head()"
   ]
  },
  {
   "cell_type": "code",
   "execution_count": 16,
   "id": "b173217f-37ba-4bcb-937e-6c69a45cdf66",
   "metadata": {},
   "outputs": [],
   "source": [
    "res = df[(df['Name'].isin(eu_countries)) & (df['Year'] == 2019)]\n",
    "del res['Year']"
   ]
  },
  {
   "cell_type": "code",
   "execution_count": 17,
   "id": "394ff41a-a451-45e7-879d-532128de156b",
   "metadata": {},
   "outputs": [
    {
     "data": {
      "text/html": [
       "<div>\n",
       "<style scoped>\n",
       "    .dataframe tbody tr th:only-of-type {\n",
       "        vertical-align: middle;\n",
       "    }\n",
       "\n",
       "    .dataframe tbody tr th {\n",
       "        vertical-align: top;\n",
       "    }\n",
       "\n",
       "    .dataframe thead th {\n",
       "        text-align: right;\n",
       "    }\n",
       "</style>\n",
       "<table border=\"1\" class=\"dataframe\">\n",
       "  <thead>\n",
       "    <tr style=\"text-align: right;\">\n",
       "      <th></th>\n",
       "      <th>Name_x</th>\n",
       "      <th>Code</th>\n",
       "      <th>Flag</th>\n",
       "      <th>CorruptionIndex</th>\n",
       "      <th>UVIndex</th>\n",
       "      <th>ObesityIndex</th>\n",
       "      <th>HappinessIndex</th>\n",
       "      <th>Name_y</th>\n",
       "      <th>DrugDeaths</th>\n",
       "    </tr>\n",
       "  </thead>\n",
       "  <tbody>\n",
       "    <tr>\n",
       "      <th>0</th>\n",
       "      <td>Austria</td>\n",
       "      <td>AUT</td>\n",
       "      <td>🇦🇹</td>\n",
       "      <td>76</td>\n",
       "      <td>1888</td>\n",
       "      <td>21.9</td>\n",
       "      <td>7.2460</td>\n",
       "      <td>Austria</td>\n",
       "      <td>140.0</td>\n",
       "    </tr>\n",
       "    <tr>\n",
       "      <th>1</th>\n",
       "      <td>Belgium</td>\n",
       "      <td>BEL</td>\n",
       "      <td>🇧🇪</td>\n",
       "      <td>75</td>\n",
       "      <td>1645</td>\n",
       "      <td>24.5</td>\n",
       "      <td>6.9230</td>\n",
       "      <td>Belgium</td>\n",
       "      <td>224.0</td>\n",
       "    </tr>\n",
       "    <tr>\n",
       "      <th>2</th>\n",
       "      <td>Bulgaria</td>\n",
       "      <td>BGR</td>\n",
       "      <td>🇧🇬</td>\n",
       "      <td>42</td>\n",
       "      <td>2331</td>\n",
       "      <td>27.4</td>\n",
       "      <td>5.0110</td>\n",
       "      <td>Bulgaria</td>\n",
       "      <td>69.0</td>\n",
       "    </tr>\n",
       "    <tr>\n",
       "      <th>3</th>\n",
       "      <td>Croatia</td>\n",
       "      <td>HRV</td>\n",
       "      <td>🇭🇷</td>\n",
       "      <td>48</td>\n",
       "      <td>1976</td>\n",
       "      <td>27.1</td>\n",
       "      <td>5.4318</td>\n",
       "      <td>Croatia</td>\n",
       "      <td>70.0</td>\n",
       "    </tr>\n",
       "    <tr>\n",
       "      <th>4</th>\n",
       "      <td>Cyprus</td>\n",
       "      <td>CYP</td>\n",
       "      <td>🇨🇾</td>\n",
       "      <td>59</td>\n",
       "      <td>3439</td>\n",
       "      <td>22.6</td>\n",
       "      <td>6.0458</td>\n",
       "      <td>Cyprus</td>\n",
       "      <td>17.0</td>\n",
       "    </tr>\n",
       "  </tbody>\n",
       "</table>\n",
       "</div>"
      ],
      "text/plain": [
       "     Name_x Code Flag  CorruptionIndex  UVIndex  ObesityIndex  HappinessIndex  \\\n",
       "0   Austria  AUT   🇦🇹               76     1888          21.9          7.2460   \n",
       "1   Belgium  BEL   🇧🇪               75     1645          24.5          6.9230   \n",
       "2  Bulgaria  BGR   🇧🇬               42     2331          27.4          5.0110   \n",
       "3   Croatia  HRV   🇭🇷               48     1976          27.1          5.4318   \n",
       "4    Cyprus  CYP   🇨🇾               59     3439          22.6          6.0458   \n",
       "\n",
       "     Name_y  DrugDeaths  \n",
       "0   Austria       140.0  \n",
       "1   Belgium       224.0  \n",
       "2  Bulgaria        69.0  \n",
       "3   Croatia        70.0  \n",
       "4    Cyprus        17.0  "
      ]
     },
     "execution_count": 17,
     "metadata": {},
     "output_type": "execute_result"
    }
   ],
   "source": [
    "final_dataset = final_dataset.merge(res, on='Code')\n",
    "final_dataset.head()"
   ]
  },
  {
   "cell_type": "markdown",
   "id": "549604fd-8dc9-4184-b3e5-02449419089e",
   "metadata": {},
   "source": [
    "### Final"
   ]
  },
  {
   "cell_type": "code",
   "execution_count": 18,
   "id": "20ca869b-428e-4ea8-9e12-d2fe4c3436a8",
   "metadata": {},
   "outputs": [],
   "source": [
    "final_dataset = final_dataset.rename(columns={'Name_x': 'Name'})\n",
    "del final_dataset['Name_y']"
   ]
  },
  {
   "cell_type": "code",
   "execution_count": 19,
   "id": "9579e4db-0c47-4679-a43a-50cb642d7d80",
   "metadata": {},
   "outputs": [
    {
     "data": {
      "text/html": [
       "<div>\n",
       "<style scoped>\n",
       "    .dataframe tbody tr th:only-of-type {\n",
       "        vertical-align: middle;\n",
       "    }\n",
       "\n",
       "    .dataframe tbody tr th {\n",
       "        vertical-align: top;\n",
       "    }\n",
       "\n",
       "    .dataframe thead th {\n",
       "        text-align: right;\n",
       "    }\n",
       "</style>\n",
       "<table border=\"1\" class=\"dataframe\">\n",
       "  <thead>\n",
       "    <tr style=\"text-align: right;\">\n",
       "      <th></th>\n",
       "      <th>Name</th>\n",
       "      <th>Code</th>\n",
       "      <th>Flag</th>\n",
       "      <th>CorruptionIndex</th>\n",
       "      <th>UVIndex</th>\n",
       "      <th>ObesityIndex</th>\n",
       "      <th>HappinessIndex</th>\n",
       "      <th>DrugDeaths</th>\n",
       "    </tr>\n",
       "  </thead>\n",
       "  <tbody>\n",
       "    <tr>\n",
       "      <th>0</th>\n",
       "      <td>Austria</td>\n",
       "      <td>AUT</td>\n",
       "      <td>🇦🇹</td>\n",
       "      <td>76</td>\n",
       "      <td>1888</td>\n",
       "      <td>21.9</td>\n",
       "      <td>7.2460</td>\n",
       "      <td>140.0</td>\n",
       "    </tr>\n",
       "    <tr>\n",
       "      <th>1</th>\n",
       "      <td>Belgium</td>\n",
       "      <td>BEL</td>\n",
       "      <td>🇧🇪</td>\n",
       "      <td>75</td>\n",
       "      <td>1645</td>\n",
       "      <td>24.5</td>\n",
       "      <td>6.9230</td>\n",
       "      <td>224.0</td>\n",
       "    </tr>\n",
       "    <tr>\n",
       "      <th>2</th>\n",
       "      <td>Bulgaria</td>\n",
       "      <td>BGR</td>\n",
       "      <td>🇧🇬</td>\n",
       "      <td>42</td>\n",
       "      <td>2331</td>\n",
       "      <td>27.4</td>\n",
       "      <td>5.0110</td>\n",
       "      <td>69.0</td>\n",
       "    </tr>\n",
       "    <tr>\n",
       "      <th>3</th>\n",
       "      <td>Croatia</td>\n",
       "      <td>HRV</td>\n",
       "      <td>🇭🇷</td>\n",
       "      <td>48</td>\n",
       "      <td>1976</td>\n",
       "      <td>27.1</td>\n",
       "      <td>5.4318</td>\n",
       "      <td>70.0</td>\n",
       "    </tr>\n",
       "    <tr>\n",
       "      <th>4</th>\n",
       "      <td>Cyprus</td>\n",
       "      <td>CYP</td>\n",
       "      <td>🇨🇾</td>\n",
       "      <td>59</td>\n",
       "      <td>3439</td>\n",
       "      <td>22.6</td>\n",
       "      <td>6.0458</td>\n",
       "      <td>17.0</td>\n",
       "    </tr>\n",
       "    <tr>\n",
       "      <th>5</th>\n",
       "      <td>Czechia</td>\n",
       "      <td>CZE</td>\n",
       "      <td>🇨🇿</td>\n",
       "      <td>59</td>\n",
       "      <td>1707</td>\n",
       "      <td>28.5</td>\n",
       "      <td>6.8521</td>\n",
       "      <td>136.0</td>\n",
       "    </tr>\n",
       "    <tr>\n",
       "      <th>6</th>\n",
       "      <td>Denmark</td>\n",
       "      <td>DNK</td>\n",
       "      <td>🇩🇰</td>\n",
       "      <td>88</td>\n",
       "      <td>1691</td>\n",
       "      <td>21.3</td>\n",
       "      <td>7.6001</td>\n",
       "      <td>198.0</td>\n",
       "    </tr>\n",
       "    <tr>\n",
       "      <th>7</th>\n",
       "      <td>Estonia</td>\n",
       "      <td>EST</td>\n",
       "      <td>🇪🇪</td>\n",
       "      <td>73</td>\n",
       "      <td>1781</td>\n",
       "      <td>23.8</td>\n",
       "      <td>5.8935</td>\n",
       "      <td>128.0</td>\n",
       "    </tr>\n",
       "    <tr>\n",
       "      <th>8</th>\n",
       "      <td>Finland</td>\n",
       "      <td>FIN</td>\n",
       "      <td>🇫🇮</td>\n",
       "      <td>85</td>\n",
       "      <td>1494</td>\n",
       "      <td>24.9</td>\n",
       "      <td>7.7689</td>\n",
       "      <td>291.0</td>\n",
       "    </tr>\n",
       "    <tr>\n",
       "      <th>9</th>\n",
       "      <td>France</td>\n",
       "      <td>FRA</td>\n",
       "      <td>🇫🇷</td>\n",
       "      <td>72</td>\n",
       "      <td>1907</td>\n",
       "      <td>23.2</td>\n",
       "      <td>6.5921</td>\n",
       "      <td>1839.0</td>\n",
       "    </tr>\n",
       "    <tr>\n",
       "      <th>10</th>\n",
       "      <td>Germany</td>\n",
       "      <td>DEU</td>\n",
       "      <td>🇩🇪</td>\n",
       "      <td>80</td>\n",
       "      <td>1812</td>\n",
       "      <td>25.7</td>\n",
       "      <td>6.9850</td>\n",
       "      <td>1678.0</td>\n",
       "    </tr>\n",
       "    <tr>\n",
       "      <th>11</th>\n",
       "      <td>Greece</td>\n",
       "      <td>GRC</td>\n",
       "      <td>🇬🇷</td>\n",
       "      <td>45</td>\n",
       "      <td>2753</td>\n",
       "      <td>27.4</td>\n",
       "      <td>5.2867</td>\n",
       "      <td>186.0</td>\n",
       "    </tr>\n",
       "    <tr>\n",
       "      <th>12</th>\n",
       "      <td>Hungary</td>\n",
       "      <td>HUN</td>\n",
       "      <td>🇭🇺</td>\n",
       "      <td>46</td>\n",
       "      <td>1932</td>\n",
       "      <td>28.6</td>\n",
       "      <td>5.7583</td>\n",
       "      <td>63.0</td>\n",
       "    </tr>\n",
       "    <tr>\n",
       "      <th>13</th>\n",
       "      <td>Ireland</td>\n",
       "      <td>IRL</td>\n",
       "      <td>🇮🇪</td>\n",
       "      <td>73</td>\n",
       "      <td>1509</td>\n",
       "      <td>26.9</td>\n",
       "      <td>7.0211</td>\n",
       "      <td>200.0</td>\n",
       "    </tr>\n",
       "    <tr>\n",
       "      <th>14</th>\n",
       "      <td>Italy</td>\n",
       "      <td>ITA</td>\n",
       "      <td>🇮🇹</td>\n",
       "      <td>52</td>\n",
       "      <td>2444</td>\n",
       "      <td>22.9</td>\n",
       "      <td>6.2234</td>\n",
       "      <td>563.0</td>\n",
       "    </tr>\n",
       "    <tr>\n",
       "      <th>15</th>\n",
       "      <td>Latvia</td>\n",
       "      <td>LVA</td>\n",
       "      <td>🇱🇻</td>\n",
       "      <td>58</td>\n",
       "      <td>1671</td>\n",
       "      <td>25.7</td>\n",
       "      <td>5.9397</td>\n",
       "      <td>51.0</td>\n",
       "    </tr>\n",
       "    <tr>\n",
       "      <th>16</th>\n",
       "      <td>Lithuania</td>\n",
       "      <td>LTU</td>\n",
       "      <td>🇱🇹</td>\n",
       "      <td>59</td>\n",
       "      <td>1801</td>\n",
       "      <td>28.4</td>\n",
       "      <td>6.1490</td>\n",
       "      <td>169.0</td>\n",
       "    </tr>\n",
       "    <tr>\n",
       "      <th>17</th>\n",
       "      <td>Luxembourg</td>\n",
       "      <td>LUX</td>\n",
       "      <td>🇱🇺</td>\n",
       "      <td>81</td>\n",
       "      <td>1687</td>\n",
       "      <td>24.2</td>\n",
       "      <td>7.0903</td>\n",
       "      <td>15.0</td>\n",
       "    </tr>\n",
       "    <tr>\n",
       "      <th>18</th>\n",
       "      <td>Malta</td>\n",
       "      <td>MLT</td>\n",
       "      <td>🇲🇹</td>\n",
       "      <td>54</td>\n",
       "      <td>3091</td>\n",
       "      <td>31.0</td>\n",
       "      <td>6.7256</td>\n",
       "      <td>9.0</td>\n",
       "    </tr>\n",
       "    <tr>\n",
       "      <th>19</th>\n",
       "      <td>Netherlands</td>\n",
       "      <td>NLD</td>\n",
       "      <td>🇳🇱</td>\n",
       "      <td>82</td>\n",
       "      <td>1662</td>\n",
       "      <td>23.1</td>\n",
       "      <td>7.4876</td>\n",
       "      <td>176.0</td>\n",
       "    </tr>\n",
       "    <tr>\n",
       "      <th>20</th>\n",
       "      <td>Poland</td>\n",
       "      <td>POL</td>\n",
       "      <td>🇵🇱</td>\n",
       "      <td>60</td>\n",
       "      <td>1749</td>\n",
       "      <td>25.6</td>\n",
       "      <td>6.1817</td>\n",
       "      <td>211.0</td>\n",
       "    </tr>\n",
       "    <tr>\n",
       "      <th>21</th>\n",
       "      <td>Portugal</td>\n",
       "      <td>PRT</td>\n",
       "      <td>🇵🇹</td>\n",
       "      <td>64</td>\n",
       "      <td>2585</td>\n",
       "      <td>23.2</td>\n",
       "      <td>5.6925</td>\n",
       "      <td>51.0</td>\n",
       "    </tr>\n",
       "    <tr>\n",
       "      <th>22</th>\n",
       "      <td>Romania</td>\n",
       "      <td>ROU</td>\n",
       "      <td>🇷🇴</td>\n",
       "      <td>47</td>\n",
       "      <td>2071</td>\n",
       "      <td>24.5</td>\n",
       "      <td>6.0697</td>\n",
       "      <td>149.0</td>\n",
       "    </tr>\n",
       "    <tr>\n",
       "      <th>23</th>\n",
       "      <td>Slovakia</td>\n",
       "      <td>SVK</td>\n",
       "      <td>🇸🇰</td>\n",
       "      <td>50</td>\n",
       "      <td>1795</td>\n",
       "      <td>22.4</td>\n",
       "      <td>6.1976</td>\n",
       "      <td>18.0</td>\n",
       "    </tr>\n",
       "    <tr>\n",
       "      <th>24</th>\n",
       "      <td>Slovenia</td>\n",
       "      <td>SVN</td>\n",
       "      <td>🇸🇮</td>\n",
       "      <td>60</td>\n",
       "      <td>2256</td>\n",
       "      <td>22.5</td>\n",
       "      <td>6.1177</td>\n",
       "      <td>28.0</td>\n",
       "    </tr>\n",
       "    <tr>\n",
       "      <th>25</th>\n",
       "      <td>Spain</td>\n",
       "      <td>ESP</td>\n",
       "      <td>🇪🇸</td>\n",
       "      <td>58</td>\n",
       "      <td>2705</td>\n",
       "      <td>27.1</td>\n",
       "      <td>6.3541</td>\n",
       "      <td>728.0</td>\n",
       "    </tr>\n",
       "    <tr>\n",
       "      <th>26</th>\n",
       "      <td>Sweden</td>\n",
       "      <td>SWE</td>\n",
       "      <td>🇸🇪</td>\n",
       "      <td>85</td>\n",
       "      <td>1587</td>\n",
       "      <td>22.1</td>\n",
       "      <td>7.3433</td>\n",
       "      <td>485.0</td>\n",
       "    </tr>\n",
       "  </tbody>\n",
       "</table>\n",
       "</div>"
      ],
      "text/plain": [
       "           Name Code Flag  CorruptionIndex  UVIndex  ObesityIndex  \\\n",
       "0       Austria  AUT   🇦🇹               76     1888          21.9   \n",
       "1       Belgium  BEL   🇧🇪               75     1645          24.5   \n",
       "2      Bulgaria  BGR   🇧🇬               42     2331          27.4   \n",
       "3       Croatia  HRV   🇭🇷               48     1976          27.1   \n",
       "4        Cyprus  CYP   🇨🇾               59     3439          22.6   \n",
       "5       Czechia  CZE   🇨🇿               59     1707          28.5   \n",
       "6       Denmark  DNK   🇩🇰               88     1691          21.3   \n",
       "7       Estonia  EST   🇪🇪               73     1781          23.8   \n",
       "8       Finland  FIN   🇫🇮               85     1494          24.9   \n",
       "9        France  FRA   🇫🇷               72     1907          23.2   \n",
       "10      Germany  DEU   🇩🇪               80     1812          25.7   \n",
       "11       Greece  GRC   🇬🇷               45     2753          27.4   \n",
       "12      Hungary  HUN   🇭🇺               46     1932          28.6   \n",
       "13      Ireland  IRL   🇮🇪               73     1509          26.9   \n",
       "14        Italy  ITA   🇮🇹               52     2444          22.9   \n",
       "15       Latvia  LVA   🇱🇻               58     1671          25.7   \n",
       "16    Lithuania  LTU   🇱🇹               59     1801          28.4   \n",
       "17   Luxembourg  LUX   🇱🇺               81     1687          24.2   \n",
       "18        Malta  MLT   🇲🇹               54     3091          31.0   \n",
       "19  Netherlands  NLD   🇳🇱               82     1662          23.1   \n",
       "20       Poland  POL   🇵🇱               60     1749          25.6   \n",
       "21     Portugal  PRT   🇵🇹               64     2585          23.2   \n",
       "22      Romania  ROU   🇷🇴               47     2071          24.5   \n",
       "23     Slovakia  SVK   🇸🇰               50     1795          22.4   \n",
       "24     Slovenia  SVN   🇸🇮               60     2256          22.5   \n",
       "25        Spain  ESP   🇪🇸               58     2705          27.1   \n",
       "26       Sweden  SWE   🇸🇪               85     1587          22.1   \n",
       "\n",
       "    HappinessIndex  DrugDeaths  \n",
       "0           7.2460       140.0  \n",
       "1           6.9230       224.0  \n",
       "2           5.0110        69.0  \n",
       "3           5.4318        70.0  \n",
       "4           6.0458        17.0  \n",
       "5           6.8521       136.0  \n",
       "6           7.6001       198.0  \n",
       "7           5.8935       128.0  \n",
       "8           7.7689       291.0  \n",
       "9           6.5921      1839.0  \n",
       "10          6.9850      1678.0  \n",
       "11          5.2867       186.0  \n",
       "12          5.7583        63.0  \n",
       "13          7.0211       200.0  \n",
       "14          6.2234       563.0  \n",
       "15          5.9397        51.0  \n",
       "16          6.1490       169.0  \n",
       "17          7.0903        15.0  \n",
       "18          6.7256         9.0  \n",
       "19          7.4876       176.0  \n",
       "20          6.1817       211.0  \n",
       "21          5.6925        51.0  \n",
       "22          6.0697       149.0  \n",
       "23          6.1976        18.0  \n",
       "24          6.1177        28.0  \n",
       "25          6.3541       728.0  \n",
       "26          7.3433       485.0  "
      ]
     },
     "execution_count": 19,
     "metadata": {},
     "output_type": "execute_result"
    }
   ],
   "source": [
    "final_dataset"
   ]
  },
  {
   "cell_type": "code",
   "execution_count": 20,
   "id": "7eb92a89-8c7d-4e65-b0d1-65252427c5db",
   "metadata": {},
   "outputs": [],
   "source": [
    "json_data = final_dataset.to_json(orient='records')"
   ]
  },
  {
   "cell_type": "code",
   "execution_count": 21,
   "id": "0d08840f-ead5-4ad0-86f2-8f93d1cd7536",
   "metadata": {},
   "outputs": [],
   "source": [
    "with open('./dataCleaned.json', 'w') as json_file:\n",
    "    json_file.write(json_data)"
   ]
  },
  {
   "cell_type": "markdown",
   "id": "7aa64f5a-dfec-4013-a15c-f86ca64ffbcc",
   "metadata": {},
   "source": [
    "# Parsed Data"
   ]
  },
  {
   "cell_type": "markdown",
   "id": "2f29a4e5-e766-4070-9e8d-dd8479c969aa",
   "metadata": {},
   "source": [
    "### Corruption"
   ]
  },
  {
   "cell_type": "code",
   "execution_count": 22,
   "id": "6d723966-add9-4f4f-8583-764842cb69f3",
   "metadata": {},
   "outputs": [
    {
     "data": {
      "text/plain": [
       "array([53. , 60. , 75.5])"
      ]
     },
     "execution_count": 22,
     "metadata": {},
     "output_type": "execute_result"
    }
   ],
   "source": [
    "quartiles = np.percentile(final_dataset['CorruptionIndex'].values, [25, 50, 75])\n",
    "quartiles"
   ]
  },
  {
   "cell_type": "code",
   "execution_count": 23,
   "id": "1332c93f-3cc2-4a3e-971f-e6d3b674f5e3",
   "metadata": {},
   "outputs": [],
   "source": [
    "def corruptionClassifier(value, quartiles):\n",
    "    if value <= quartiles[0]:\n",
    "        return 'high'\n",
    "    elif value > quartiles[0] and value <= quartiles[2]:\n",
    "        return 'neutral'\n",
    "    else:\n",
    "        return 'low'"
   ]
  },
  {
   "cell_type": "code",
   "execution_count": 24,
   "id": "b65af42d-c01c-46ad-8f18-af7eaf83a420",
   "metadata": {},
   "outputs": [],
   "source": [
    "final_dataset['CorruptionIndex_Parsed'] = final_dataset['CorruptionIndex'].apply(corruptionClassifier, args=(quartiles,))"
   ]
  },
  {
   "cell_type": "markdown",
   "id": "da5efe69-cae2-4c67-b01f-80ea311df8fc",
   "metadata": {},
   "source": [
    "### UV Index"
   ]
  },
  {
   "cell_type": "code",
   "execution_count": 25,
   "id": "4f5d7922-c8a8-454e-9e91-5519f69da7b6",
   "metadata": {},
   "outputs": [
    {
     "data": {
      "text/plain": [
       "array([1689. , 1812. , 2293.5])"
      ]
     },
     "execution_count": 25,
     "metadata": {},
     "output_type": "execute_result"
    }
   ],
   "source": [
    "quartiles = np.percentile(final_dataset['UVIndex'].values, [25, 50, 75])\n",
    "quartiles"
   ]
  },
  {
   "cell_type": "code",
   "execution_count": 26,
   "id": "53eb1f6c-b951-4084-9b15-ca8da197220a",
   "metadata": {},
   "outputs": [],
   "source": [
    "def UVClassifier(value, quartiles):\n",
    "    if value <= quartiles[0]:\n",
    "        return 'low'\n",
    "    elif value > quartiles[0] and value <= quartiles[2]:\n",
    "        return 'neutral'\n",
    "    else:\n",
    "        return 'high'"
   ]
  },
  {
   "cell_type": "code",
   "execution_count": 27,
   "id": "8749a564-dd1c-4232-829e-01016f655452",
   "metadata": {},
   "outputs": [],
   "source": [
    "final_dataset['UVIndex_Parsed'] = final_dataset['UVIndex'].apply(UVClassifier, args=(quartiles,))"
   ]
  },
  {
   "cell_type": "markdown",
   "id": "d9853888-2b9e-4a2a-91c1-97532e684cde",
   "metadata": {},
   "source": [
    "### Obesity"
   ]
  },
  {
   "cell_type": "code",
   "execution_count": 28,
   "id": "3b97f086-edbf-4c99-8c9b-2d48605b661d",
   "metadata": {},
   "outputs": [
    {
     "data": {
      "text/plain": [
       "array([23. , 24.5, 27.1])"
      ]
     },
     "execution_count": 28,
     "metadata": {},
     "output_type": "execute_result"
    }
   ],
   "source": [
    "quartiles = np.percentile(final_dataset['ObesityIndex'].values, [25, 50, 75])\n",
    "quartiles"
   ]
  },
  {
   "cell_type": "code",
   "execution_count": 29,
   "id": "e48594d2-9ca4-4903-99e9-0f53541f5347",
   "metadata": {},
   "outputs": [],
   "source": [
    "def obesityClassifier(value, quartiles):\n",
    "    if value <= quartiles[1]:\n",
    "        return 'low'\n",
    "    else:\n",
    "        return 'high'"
   ]
  },
  {
   "cell_type": "code",
   "execution_count": 30,
   "id": "13268190-632d-418f-951c-9bbd739e9724",
   "metadata": {},
   "outputs": [],
   "source": [
    "final_dataset['ObesityIndex_Parsed'] = final_dataset['ObesityIndex'].apply(obesityClassifier, args=(quartiles,))"
   ]
  },
  {
   "cell_type": "code",
   "execution_count": 31,
   "id": "1750a601-e633-47db-9628-2907cafbe093",
   "metadata": {},
   "outputs": [],
   "source": [
    "# final_dataset[final_dataset['ObesityIndex_Parsed'] == 'high']"
   ]
  },
  {
   "cell_type": "markdown",
   "id": "4066ac6e-9969-4241-a97c-c9c27df5a560",
   "metadata": {},
   "source": [
    "### Happiness"
   ]
  },
  {
   "cell_type": "code",
   "execution_count": 32,
   "id": "f2906f19-4043-48fa-9a9c-640a96c20b37",
   "metadata": {},
   "outputs": [
    {
     "data": {
      "text/plain": [
       "array([5.99275, 6.2234 , 7.00305])"
      ]
     },
     "execution_count": 32,
     "metadata": {},
     "output_type": "execute_result"
    }
   ],
   "source": [
    "quartiles = np.percentile(final_dataset['HappinessIndex'].values, [25, 50, 75])\n",
    "quartiles"
   ]
  },
  {
   "cell_type": "code",
   "execution_count": 33,
   "id": "a8d7932e-4f68-4c51-8b14-ff1b6b1e4d24",
   "metadata": {},
   "outputs": [],
   "source": [
    "def happinessClassifier(value, quartiles):\n",
    "    if value <= quartiles[0]:\n",
    "        return 'low'\n",
    "    elif value > quartiles[0] and value <= quartiles[2]:\n",
    "        return 'neutral'\n",
    "    else:\n",
    "        return 'high'"
   ]
  },
  {
   "cell_type": "code",
   "execution_count": 34,
   "id": "d4b80252-b774-4b28-81ba-84a05fce884a",
   "metadata": {},
   "outputs": [],
   "source": [
    "final_dataset['HappinessIndex_Parsed'] = final_dataset['HappinessIndex'].apply(happinessClassifier, args=(quartiles,))"
   ]
  },
  {
   "cell_type": "code",
   "execution_count": 35,
   "id": "5e0c83df-1fae-405b-bddc-d5421642abf7",
   "metadata": {},
   "outputs": [],
   "source": [
    "# final_dataset[final_dataset['HappinessIndex_Parsed'] == 'low']"
   ]
  },
  {
   "cell_type": "markdown",
   "id": "c43069ac-33a5-418c-9e3b-c2c7554f5aed",
   "metadata": {},
   "source": [
    "### Drugs"
   ]
  },
  {
   "cell_type": "code",
   "execution_count": 36,
   "id": "4db8d697-52bf-4dc7-9c56-66ea29010fce",
   "metadata": {},
   "outputs": [
    {
     "data": {
      "text/plain": [
       "array([ 57. , 149. , 217.5])"
      ]
     },
     "execution_count": 36,
     "metadata": {},
     "output_type": "execute_result"
    }
   ],
   "source": [
    "quartiles = np.percentile(final_dataset['DrugDeaths'].values, [25, 50, 75])\n",
    "quartiles"
   ]
  },
  {
   "cell_type": "code",
   "execution_count": 37,
   "id": "15505ad2-44c2-43f0-907d-51f522895832",
   "metadata": {},
   "outputs": [],
   "source": [
    "def drugDeathsClassifier(value, quartiles):\n",
    "    if value <= quartiles[2]:\n",
    "        return 'low'\n",
    "    else:\n",
    "        return 'high'"
   ]
  },
  {
   "cell_type": "code",
   "execution_count": 38,
   "id": "fab46e8f-3a49-4267-b660-e79d3669073b",
   "metadata": {},
   "outputs": [],
   "source": [
    "final_dataset['DrugDeaths_Parsed'] = final_dataset['DrugDeaths'].apply(drugDeathsClassifier, args=(quartiles,))"
   ]
  },
  {
   "cell_type": "markdown",
   "id": "d344fd60-8ee8-4add-944a-dc798f8aeca2",
   "metadata": {},
   "source": [
    "### Final"
   ]
  },
  {
   "cell_type": "code",
   "execution_count": 39,
   "id": "894c3cd5-6e01-49b2-b9a6-be2da941e863",
   "metadata": {},
   "outputs": [],
   "source": [
    "json_data = final_dataset.to_json(orient='records')"
   ]
  },
  {
   "cell_type": "code",
   "execution_count": 40,
   "id": "6d5140d5-b32f-4e34-ab12-1d8143f11525",
   "metadata": {},
   "outputs": [],
   "source": [
    "# with open('./dataParsed.json', 'w') as json_file:\n",
    "#     json_file.write(json_data)"
   ]
  },
  {
   "cell_type": "code",
   "execution_count": 41,
   "id": "5c517d4e-af3f-4687-a531-5cbaf17b8b2e",
   "metadata": {},
   "outputs": [
    {
     "data": {
      "text/plain": [
       "array(['low', 'high'], dtype=object)"
      ]
     },
     "execution_count": 41,
     "metadata": {},
     "output_type": "execute_result"
    }
   ],
   "source": [
    "final_dataset['ObesityIndex_Parsed'].unique()"
   ]
  },
  {
   "cell_type": "code",
   "execution_count": 42,
   "id": "aaaf259f-314f-47d9-918c-124acf375990",
   "metadata": {},
   "outputs": [
    {
     "name": "stdout",
     "output_type": "stream",
     "text": [
      "CorruptionIndex_Parsed ['low' 'neutral' 'high']\n",
      "UVIndex_Parsed ['neutral' 'low' 'high']\n",
      "ObesityIndex_Parsed ['low' 'high']\n",
      "HappinessIndex_Parsed ['high' 'neutral' 'low']\n",
      "DrugDeaths_Parsed ['low' 'high']\n"
     ]
    }
   ],
   "source": [
    "for column in ['CorruptionIndex_Parsed', 'UVIndex_Parsed', 'ObesityIndex_Parsed', 'HappinessIndex_Parsed', 'DrugDeaths_Parsed']:\n",
    "    print(column, final_dataset[column].unique())"
   ]
  },
  {
   "cell_type": "code",
   "execution_count": null,
   "id": "5c16bab2-0383-481b-bf54-399c737dd48b",
   "metadata": {},
   "outputs": [],
   "source": []
  }
 ],
 "metadata": {
  "kernelspec": {
   "display_name": "Python 3 (ipykernel)",
   "language": "python",
   "name": "python3"
  },
  "language_info": {
   "codemirror_mode": {
    "name": "ipython",
    "version": 3
   },
   "file_extension": ".py",
   "mimetype": "text/x-python",
   "name": "python",
   "nbconvert_exporter": "python",
   "pygments_lexer": "ipython3",
   "version": "3.9.12"
  }
 },
 "nbformat": 4,
 "nbformat_minor": 5
}
